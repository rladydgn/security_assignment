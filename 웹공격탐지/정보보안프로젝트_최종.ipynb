{
  "nbformat": 4,
  "nbformat_minor": 0,
  "metadata": {
    "colab": {
      "name": "정보보안프로젝트1.ipynb의 사본",
      "provenance": [],
      "collapsed_sections": []
    },
    "kernelspec": {
      "name": "python3",
      "display_name": "Python 3"
    },
    "language_info": {
      "name": "python"
    }
  },
  "cells": [
    {
      "cell_type": "code",
      "metadata": {
        "id": "ZNZTJ7tXi2N3"
      },
      "source": [
        "import numpy as np\n",
        "import matplotlib.pyplot as plt\n",
        "from tensorflow.keras.preprocessing.text import Tokenizer\n",
        "from tensorflow.keras.preprocessing.sequence import pad_sequences\n",
        "from tensorflow.keras.layers import SimpleRNN, Embedding, Dense\n",
        "from tensorflow.keras.models import Sequential\n",
        "import tensorflow as tf"
      ],
      "execution_count": 2,
      "outputs": []
    },
    {
      "cell_type": "markdown",
      "metadata": {
        "id": "JcKBA8Yvi9W6"
      },
      "source": [
        "파싱"
      ]
    },
    {
      "cell_type": "code",
      "metadata": {
        "id": "NcMPNkKvi8Aq"
      },
      "source": [
        "#데이터셋에서 로그 한부위를 따오는 파싱 함수\n",
        "def parsing(path):#파싱을 진행하는 함수\n",
        "    with open(path,'r',encoding='utf-8') as f:#파일을 읽어드리고 ['로그','로그',...] 이런식으로 로그를 구조화\n",
        "        train=[]\n",
        "        para =\"\"\n",
        "        while True:\n",
        "            l = f.readline() #한줄씩 읽어 옵니다\n",
        "            if not l:\n",
        "                break #파일을 전부 읽으면 읽기를 중단합니다.\n",
        "\n",
        "            if l != \"\\n\":\n",
        "                temp = l.split(\" \")\n",
        "                if temp[0] == \"POST\" or temp[0] == \"GET\" or temp[0] == \"PUT\":\n",
        "                    para += temp[0] + \" \" + temp[1]\n",
        "            else:\n",
        "                if para!='':\n",
        "                    if para[:4]=='POST': #Method가 POST인 경우 예외적으로 바디까지 가져옵니다.\n",
        "                        para+= \" \" + f.readline()\n",
        "                    train.append(para)\n",
        "                    para=\"\"\n",
        "    return train"
      ],
      "execution_count": 1,
      "outputs": []
    },
    {
      "cell_type": "code",
      "metadata": {
        "id": "HkpX1XjPjDHE"
      },
      "source": [
        "#데이터셋을 라벨링하는 함수\n",
        "def dataset(path,mod='train'): #데이터셋을 생성합니다. 파싱한 데이터와 라벨을 생성합니다\n",
        "    x = parsing(f'{path}norm_{mod}.txt') # mod에 따라 train을 가져올지 test 데이터를 가져올지 결정됩니다.\n",
        "    y = [0]*len(x) # 정상 라벨 0 을 정상 데이터 개수 만큼 생성\n",
        "    x += parsing(f'{path}anomal_{mod}.txt')\n",
        "    y += [1]*(len(x)-len(y)) # 비정상 라벨 1을 비정상 데이터 개수 만큼 생성\n",
        "    return x, y"
      ],
      "execution_count": 3,
      "outputs": []
    },
    {
      "cell_type": "markdown",
      "metadata": {
        "id": "ZvbKU2wkjOJn"
      },
      "source": [
        "데이터 불러오기"
      ]
    },
    {
      "cell_type": "code",
      "metadata": {
        "colab": {
          "base_uri": "https://localhost:8080/"
        },
        "id": "dqWVqchgjKLc",
        "outputId": "ee974115-4c25-4b69-f392-a39e1a7de5de"
      },
      "source": [
        "# train_x : 정상 학습 데이터 / train_y : 비정상 학습 데이터\n",
        "# test_x : 정상 테스트 데이터 / test_y : 비정상 테스트 데이터\n",
        "train_x, train_y = dataset('./','train')\n",
        "test_x, test_y =  dataset('./','test')\n",
        "print(f\"train_x : {len(train_x)}\")\n",
        "print(f\"train_y : {len(train_y)}\")"
      ],
      "execution_count": 6,
      "outputs": [
        {
          "output_type": "stream",
          "name": "stdout",
          "text": [
            "train_x : 48852\n",
            "train_y : 48852\n"
          ]
        }
      ]
    },
    {
      "cell_type": "code",
      "metadata": {
        "id": "mQyrFJSmjPlK"
      },
      "source": [
        "# --------------- 등장 빈도수가 1인 단어를 제외하기 위한 코드입니다. ---------------\n",
        "# 문장으로 되어 있는 로그를 고유id를 가진 단어로 변환합니다.\n",
        "# fit_on_text : 문자데이터 -> 단어리스트\n",
        "# texts_to_sequences : 단어리스트 -> 고유id 변환\n",
        "tokenizer = Tokenizer()\n",
        "tokenizer.fit_on_texts(train_x)\n",
        "train_x_index = tokenizer.texts_to_sequences(train_x)"
      ],
      "execution_count": 7,
      "outputs": []
    },
    {
      "cell_type": "code",
      "metadata": {
        "colab": {
          "base_uri": "https://localhost:8080/"
        },
        "id": "J-qThYU6jb1o",
        "outputId": "ca173702-cddb-4816-dea1-9799e5561014"
      },
      "source": [
        "# 단어 -> 인덱스 키, 값 쌍\n",
        "word_to_index = tokenizer.word_index\n",
        "cnt = 0;\n",
        "for key, value in word_to_index.items():\n",
        "  cnt += 1;\n",
        "  print(\"key : \", key, \", value : \", value)\n",
        "  if(cnt==10):\n",
        "    break"
      ],
      "execution_count": 8,
      "outputs": [
        {
          "output_type": "stream",
          "name": "stdout",
          "text": [
            "key :  localhost , value :  1\n",
            "key :  http , value :  2\n",
            "key :  8080 , value :  3\n",
            "key :  tienda1 , value :  4\n",
            "key :  jsp , value :  5\n",
            "key :  get , value :  6\n",
            "key :  publico , value :  7\n",
            "key :  b1 , value :  8\n",
            "key :  modo , value :  9\n",
            "key :  post , value :  10\n"
          ]
        }
      ]
    },
    {
      "cell_type": "code",
      "metadata": {
        "colab": {
          "base_uri": "https://localhost:8080/"
        },
        "id": "1AxKLGIvkF0V",
        "outputId": "5fc96ed2-4ac7-4ae1-b430-65e87b38f125"
      },
      "source": [
        "rare_words = 0; # 등장 빈도수가 1회인 단어의 수\n",
        "total_words = len(word_to_index); # 총 단어의 수\n",
        "for key, value in tokenizer.word_counts.items():\n",
        "  if(value<=1):\n",
        "    rare_words += 1\n",
        "print(\"전체 단어 수 : \", total_words)\n",
        "print(\"등장 빈도수가 1회 이하인 단어의 수 : \", rare_words)"
      ],
      "execution_count": 10,
      "outputs": [
        {
          "output_type": "stream",
          "name": "stdout",
          "text": [
            "전체 단어 수 :  33868\n",
            "등장 빈도수가 1회 이하인 단어의 수 :  5920\n"
          ]
        }
      ]
    },
    {
      "cell_type": "code",
      "metadata": {
        "id": "neOH8gBRk_6S"
      },
      "source": [
        "#1회 이하인 단어는 제거한다.\n",
        "tokenizer = Tokenizer(num_words = total_words - rare_words + 1)\n",
        "tokenizer.fit_on_texts(train_x)\n",
        "train_x_index = tokenizer.texts_to_sequences(train_x)\n",
        "word_to_index = tokenizer.word_index\n",
        "# --------------- 등장 빈도수가 1인 단어를 제외하기 위한 코드입니다. ---------------"
      ],
      "execution_count": 12,
      "outputs": []
    },
    {
      "cell_type": "code",
      "metadata": {
        "colab": {
          "base_uri": "https://localhost:8080/"
        },
        "id": "Hz_I5dD5l4ok",
        "outputId": "63840c77-080c-466a-a205-492d12bcbd1e"
      },
      "source": [
        "# --------------- RNN 학습에 사용될 데이터 전처리 과정입니다. -------------------\n",
        "# 한 http 정보의 최대 길이\n",
        "max_length = max(len(i) for i in train_x_index)\n",
        "print(max_length)"
      ],
      "execution_count": 14,
      "outputs": [
        {
          "output_type": "stream",
          "name": "stdout",
          "text": [
            "160\n"
          ]
        }
      ]
    },
    {
      "cell_type": "code",
      "metadata": {
        "colab": {
          "base_uri": "https://localhost:8080/"
        },
        "id": "bW0cvgPymD6p",
        "outputId": "f21a56ad-02db-410c-e30d-703bd24ace98"
      },
      "source": [
        "# 훈련 데이터의 크기\n",
        "train_x_pad = pad_sequences(train_x_index, maxlen=max_length)\n",
        "print(train_x_pad.shape)"
      ],
      "execution_count": 15,
      "outputs": [
        {
          "output_type": "stream",
          "name": "stdout",
          "text": [
            "(48852, 160)\n"
          ]
        }
      ]
    },
    {
      "cell_type": "code",
      "metadata": {
        "id": "2w6W_JQ1m7Ma"
      },
      "source": [
        "# 단어 집합의 크기\n",
        "vocab_size = len(word_to_index) + 1\n",
        "# --------------- RNN 학습에 사용될 데이터 전처리 과정입니다. -------------------"
      ],
      "execution_count": 16,
      "outputs": []
    },
    {
      "cell_type": "code",
      "metadata": {
        "colab": {
          "base_uri": "https://localhost:8080/"
        },
        "id": "ksEnwVEfmghx",
        "outputId": "7f88de7a-9431-4b37-df66-ce27bc15a22e"
      },
      "source": [
        "# --------------- RNN 학습 과정입니다. ------------------------------------\n",
        "# 임베딩 과정을 통해 토큰화된 단어를 좌표평면으로 매핑합니다.\n",
        "model = Sequential()\n",
        "model.add(Embedding(vocab_size, 32)) # 임베딩 벡터의 차원은 32 / 64로해봄 비슷..\n",
        "model.add(SimpleRNN(32)) # RNN 셀의 hidden_size는 32\n",
        "model.add(Dense(1, activation='sigmoid')) # 활성 함수\n",
        "\n",
        "model.compile(optimizer='rmsprop', loss='binary_crossentropy', metrics=['acc', tf.keras.metrics.Precision(name='precision')\\\n",
        "                                                                        , tf.keras.metrics.Recall(name='recall')])\n",
        "train_y = np.array(train_y)\n",
        "# 5%는 검증에 사용\n",
        "epochs = 5\n",
        "history = model.fit(train_x_pad, train_y, epochs=epochs, batch_size=64, validation_split=0.05)\n",
        "# --------------- RNN 학습 과정입니다. ------------------------------------"
      ],
      "execution_count": 17,
      "outputs": [
        {
          "output_type": "stream",
          "name": "stdout",
          "text": [
            "Epoch 1/5\n",
            "726/726 [==============================] - 37s 48ms/step - loss: 0.1789 - acc: 0.9272 - precision: 0.9254 - recall: 0.8790 - val_loss: 0.0988 - val_acc: 0.9709 - val_precision: 1.0000 - val_recall: 0.9709\n",
            "Epoch 2/5\n",
            "726/726 [==============================] - 33s 45ms/step - loss: 0.0405 - acc: 0.9907 - precision: 0.9944 - recall: 0.9810 - val_loss: 0.1380 - val_acc: 0.9599 - val_precision: 1.0000 - val_recall: 0.9599\n",
            "Epoch 3/5\n",
            "726/726 [==============================] - 34s 46ms/step - loss: 0.0268 - acc: 0.9947 - precision: 0.9978 - recall: 0.9881 - val_loss: 0.0728 - val_acc: 0.9824 - val_precision: 1.0000 - val_recall: 0.9824\n",
            "Epoch 4/5\n",
            "726/726 [==============================] - 33s 45ms/step - loss: 0.0228 - acc: 0.9954 - precision: 0.9981 - recall: 0.9898 - val_loss: 0.0740 - val_acc: 0.9832 - val_precision: 1.0000 - val_recall: 0.9832\n",
            "Epoch 5/5\n",
            "726/726 [==============================] - 32s 45ms/step - loss: 0.0206 - acc: 0.9960 - precision: 0.9987 - recall: 0.9907 - val_loss: 0.0646 - val_acc: 0.9840 - val_precision: 1.0000 - val_recall: 0.9840\n"
          ]
        }
      ]
    },
    {
      "cell_type": "markdown",
      "metadata": {
        "id": "QomiKzu-nNsD"
      },
      "source": [
        "실제 정확도 확인"
      ]
    },
    {
      "cell_type": "code",
      "metadata": {
        "colab": {
          "base_uri": "https://localhost:8080/"
        },
        "id": "8mZf_DkcnMvT",
        "outputId": "96dd0827-1085-43b2-9732-9d25ff9ac052"
      },
      "source": [
        "test_x_index = tokenizer.texts_to_sequences(test_x)\n",
        "test_x_pad = pad_sequences(test_x_index, maxlen = max_length)\n",
        "test_y = np.array(test_y)\n",
        "_loss, _acc, _precision, _recall = model.evaluate(test_x_pad, test_y)\n",
        "print(\"\\n 테스트셋 accuracy: %.4f\" % _acc)\n",
        "print(\"테스트셋 precision: %.4f\" % _precision)\n",
        "print(\"테스트셋 recall: %.4f\" % _recall)\n",
        "_f1_score = 2 * (_precision*_recall) / (_precision + _recall)\n",
        "print(\"테스트셋 f1_score : %.4f\" % _f1_score)"
      ],
      "execution_count": 27,
      "outputs": [
        {
          "output_type": "stream",
          "name": "stdout",
          "text": [
            "382/382 [==============================] - 4s 10ms/step - loss: 0.0390 - acc: 0.9908 - precision: 0.9976 - recall: 0.9801\n",
            "\n",
            " 테스트셋 accuracy: 0.9908\n",
            "테스트셋 precision: 0.9976\n",
            "테스트셋 recall: 0.9801\n",
            "테스트셋 f1_score : 0.9887\n"
          ]
        }
      ]
    },
    {
      "cell_type": "code",
      "metadata": {
        "colab": {
          "base_uri": "https://localhost:8080/",
          "height": 279
        },
        "id": "FUX5bCtNul8P",
        "outputId": "b7afca57-c7d5-46fa-8554-1cd679b7b248"
      },
      "source": [
        "# --------------- 학습 모델의 테스트 결과를 그래프로 나타내는 과정입니다. ------------\n",
        "# 훈련, 검증 loss 그래프\n",
        "epochs = range(1, 6)\n",
        "plt.plot(epochs, history.history['loss'], 'ro-')\n",
        "plt.plot(epochs, history.history['val_loss'], 'bo-')\n",
        "plt.ylabel('loss')\n",
        "plt.xlabel('epochs')\n",
        "plt.legend(['train', 'val'], loc='upper right')\n",
        "plt.grid(True)\n",
        "plt.show()\n",
        "# --------------- 학습 모델의 테스트 결과를 그래프로 나타내는 과정입니다. ------------"
      ],
      "execution_count": 25,
      "outputs": [
        {
          "output_type": "display_data",
          "data": {
            "image/png": "[encoded data removed]",
            "text/plain": [
              "<Figure size 432x288 with 1 Axes>"
            ]
          },
          "metadata": {
            "needs_background": "light"
          }
        }
      ]
    },
    {
      "cell_type": "code",
      "metadata": {
        "colab": {
          "base_uri": "https://localhost:8080/"
        },
        "id": "c7IoPR-7vECf",
        "outputId": "bc98e766-61b3-428a-82a2-f78c62b92c48"
      },
      "source": [
        "model.summary()"
      ],
      "execution_count": 26,
      "outputs": [
        {
          "output_type": "stream",
          "name": "stdout",
          "text": [
            "Model: \"sequential\"\n",
            "_________________________________________________________________\n",
            "Layer (type)                 Output Shape              Param #   \n",
            "=================================================================\n",
            "embedding (Embedding)        (None, None, 32)          1083808   \n",
            "_________________________________________________________________\n",
            "simple_rnn (SimpleRNN)       (None, 32)                2080      \n",
            "_________________________________________________________________\n",
            "dense (Dense)                (None, 1)                 33        \n",
            "=================================================================\n",
            "Total params: 1,085,921\n",
            "Trainable params: 1,085,921\n",
            "Non-trainable params: 0\n",
            "_________________________________________________________________\n"
          ]
        }
      ]
    }
  ]
}
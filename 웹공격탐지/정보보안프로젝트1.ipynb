{
  "nbformat": 4,
  "nbformat_minor": 0,
  "metadata": {
    "colab": {
      "name": "정보보안프로젝트1.ipynb",
      "provenance": [],
      "collapsed_sections": []
    },
    "kernelspec": {
      "name": "python3",
      "display_name": "Python 3"
    },
    "language_info": {
      "name": "python"
    }
  },
  "cells": [
    {
      "cell_type": "code",
      "metadata": {
        "id": "ZNZTJ7tXi2N3"
      },
      "source": [
        "import numpy as np\n",
        "import matplotlib.pyplot as plt\n",
        "from tensorflow.keras.preprocessing.text import Tokenizer\n",
        "from tensorflow.keras.preprocessing.sequence import pad_sequences\n",
        "from tensorflow.keras.layers import SimpleRNN, Embedding, Dense\n",
        "from tensorflow.keras.models import Sequential"
      ],
      "execution_count": 3,
      "outputs": []
    },
    {
      "cell_type": "markdown",
      "metadata": {
        "id": "JcKBA8Yvi9W6"
      },
      "source": [
        "파싱"
      ]
    },
    {
      "cell_type": "code",
      "metadata": {
        "id": "NcMPNkKvi8Aq"
      },
      "source": [
        "def parsing(path):#파싱을 진행하는 함수\n",
        "    with open(path,'r',encoding='utf-8') as f:#파일을 읽어드리고 ['로그','로그',...] 이런식으로 로그를 구조화\n",
        "        train=[]\n",
        "        para=\"\"\n",
        "        while True:\n",
        "            l = f.readline() #한줄씩 읽어 옵니다\n",
        "\n",
        "            if not l:\n",
        "                break #파일을 전부 읽으면 읽기를 중단합니다.\n",
        "\n",
        "            if l != \"\\n\":\n",
        "                para +=l\n",
        "            else:\n",
        "                if para!='':\n",
        "                    if para[:4]=='POST': #Method가 POST인 경우 예외적으로 바디까지 가져옵니다.\n",
        "                        para+=f.readline()\n",
        "                    train.append(para)\n",
        "                    para=\"\"\n",
        "    return train"
      ],
      "execution_count": 4,
      "outputs": []
    },
    {
      "cell_type": "code",
      "metadata": {
        "id": "HkpX1XjPjDHE"
      },
      "source": [
        "def dataset(path,mod='train'): #데이터셋을 생성합니다. 파싱한 데이터와 라벨을 생성합니다 \n",
        "    x = parsing(f'{path}norm_{mod}.txt') # mod에 따라 train을 가져올지 test 데이터를 가져올지 결정됩니다.\n",
        "    y = [0]*len(x) # 정상 라벨 0 을 정상 데이터 개수 만큼 생성\n",
        "    x += parsing(f'{path}anomal_{mod}.txt')\n",
        "    y += [1]*(len(x)-len(y)) # 비정상 라벨 1을 비정상 데이터 개수 만큼 생성\n",
        "    return x, y"
      ],
      "execution_count": 5,
      "outputs": []
    },
    {
      "cell_type": "markdown",
      "metadata": {
        "id": "ZvbKU2wkjOJn"
      },
      "source": [
        "데이터 불러오기"
      ]
    },
    {
      "cell_type": "code",
      "metadata": {
        "colab": {
          "base_uri": "https://localhost:8080/"
        },
        "id": "dqWVqchgjKLc",
        "outputId": "3b163b34-2ef8-4054-b4c6-a7039cc51071"
      },
      "source": [
        "train_x, train_y = dataset('./','train')\n",
        "test_x, test_y =  dataset('./','test')\n",
        "print(f\"train_x : {len(train_x)}\")\n",
        "print(f\"train_y : {len(train_y)}\")"
      ],
      "execution_count": 6,
      "outputs": [
        {
          "output_type": "stream",
          "name": "stdout",
          "text": [
            "train_x : 49167\n",
            "train_y : 49167\n"
          ]
        }
      ]
    },
    {
      "cell_type": "code",
      "metadata": {
        "id": "mQyrFJSmjPlK"
      },
      "source": [
        "# 불러온 문자열들을 tokenizer를 이용해 키:값 쌍으로 바꿔준다.\n",
        "tokenizer = Tokenizer()\n",
        "tokenizer.fit_on_texts(train_x)\n",
        "# 문자열을 값(index)로 바꿔준다.\n",
        "train_x_index = tokenizer.texts_to_sequences(train_x)"
      ],
      "execution_count": 7,
      "outputs": []
    },
    {
      "cell_type": "code",
      "metadata": {
        "colab": {
          "base_uri": "https://localhost:8080/"
        },
        "id": "J-qThYU6jb1o",
        "outputId": "07ecb29d-1581-4b75-ddac-db2f2e5db45a"
      },
      "source": [
        "# 단어 -> 인덱스 키, 값 쌍\n",
        "word_to_index = tokenizer.word_index\n",
        "cnt = 0;\n",
        "for key, value in word_to_index.items():\n",
        "  cnt += 1;\n",
        "  print(\"key : \", key, \", value : \", value)\n",
        "  if(cnt==10):\n",
        "    break"
      ],
      "execution_count": 37,
      "outputs": [
        {
          "output_type": "stream",
          "name": "stdout",
          "text": [
            "key :  5 , value :  1\n",
            "key :  0 , value :  2\n",
            "key :  q , value :  3\n",
            "key :  8 , value :  4\n",
            "key :  accept , value :  5\n",
            "key :  xml , value :  6\n",
            "key :  cache , value :  7\n",
            "key :  text , value :  8\n",
            "key :  application , value :  9\n",
            "key :  x , value :  10\n"
          ]
        }
      ]
    },
    {
      "cell_type": "code",
      "metadata": {
        "colab": {
          "base_uri": "https://localhost:8080/"
        },
        "id": "1AxKLGIvkF0V",
        "outputId": "893657c8-e327-4113-b9a3-dcb2a8342ea0"
      },
      "source": [
        "rare_words = 0; # 등장 빈도수가 1회인 단어의 수\n",
        "total_words = len(word_to_index); # 총 단어의 수\n",
        "for key, value in tokenizer.word_counts.items():\n",
        "  if(value<=1):\n",
        "    rare_words += 1\n",
        "print(\"전체 단어 수 : \", total_words)\n",
        "print(\"등장 빈도수가 1회 이하인 단어의 수 : \", rare_words)"
      ],
      "execution_count": 13,
      "outputs": [
        {
          "output_type": "stream",
          "name": "stdout",
          "text": [
            "전체 단어 수 :  82923\n",
            "등장 빈도수가 1회 이하인 단어의 수 :  54798\n"
          ]
        }
      ]
    },
    {
      "cell_type": "code",
      "metadata": {
        "id": "neOH8gBRk_6S"
      },
      "source": [
        "#1회 이하인 단어는 제거한다.\n",
        "tokenizer = Tokenizer(num_words = total_words - rare_words + 1)\n",
        "tokenizer.fit_on_texts(train_x)\n",
        "train_x_index = tokenizer.texts_to_sequences(train_x)\n",
        "word_to_index = tokenizer.word_index"
      ],
      "execution_count": 14,
      "outputs": []
    },
    {
      "cell_type": "code",
      "metadata": {
        "colab": {
          "base_uri": "https://localhost:8080/"
        },
        "id": "Hz_I5dD5l4ok",
        "outputId": "aef24e16-9b80-478a-9a3e-7e2bb4c94819"
      },
      "source": [
        "# 한 http 정보의 최대 길이\n",
        "max_length = max(len(i) for i in train_x_index)\n",
        "print(max_length)"
      ],
      "execution_count": 15,
      "outputs": [
        {
          "output_type": "stream",
          "name": "stdout",
          "text": [
            "248\n"
          ]
        }
      ]
    },
    {
      "cell_type": "code",
      "metadata": {
        "colab": {
          "base_uri": "https://localhost:8080/"
        },
        "id": "bW0cvgPymD6p",
        "outputId": "d20fb32f-3c88-4067-8434-2a0fa060f257"
      },
      "source": [
        "# 훈련 데이터의 크기\n",
        "train_x_pad = pad_sequences(train_x_index, maxlen=max_length)\n",
        "print(train_x_pad.shape)"
      ],
      "execution_count": 16,
      "outputs": [
        {
          "output_type": "stream",
          "name": "stdout",
          "text": [
            "(49167, 248)\n"
          ]
        }
      ]
    },
    {
      "cell_type": "code",
      "metadata": {
        "id": "2w6W_JQ1m7Ma"
      },
      "source": [
        "# 단어 집합의 크기\n",
        "vocab_size = len(word_to_index) + 1"
      ],
      "execution_count": 17,
      "outputs": []
    },
    {
      "cell_type": "code",
      "metadata": {
        "colab": {
          "base_uri": "https://localhost:8080/"
        },
        "id": "ksEnwVEfmghx",
        "outputId": "a812e1bc-bac2-416b-e854-243d495fcc79"
      },
      "source": [
        "model = Sequential()\n",
        "model.add(Embedding(vocab_size, 32)) # 임베딩 벡터의 차원은 32\n",
        "model.add(SimpleRNN(32)) # RNN 셀의 hidden_size는 32\n",
        "model.add(Dense(1, activation='sigmoid')) # 활성 함수\n",
        "\n",
        "model.compile(optimizer='rmsprop', loss='binary_crossentropy', metrics=['acc'])\n",
        "train_y = np.array(train_y)\n",
        "# 5%는 검증에 사용\n",
        "history = model.fit(train_x_pad, train_y, epochs=7, batch_size=64, validation_split=0.01)"
      ],
      "execution_count": 35,
      "outputs": [
        {
          "output_type": "stream",
          "name": "stdout",
          "text": [
            "Epoch 1/7\n",
            "761/761 [==============================] - 59s 76ms/step - loss: 0.2682 - acc: 0.8782 - val_loss: 0.2865 - val_acc: 0.8963\n",
            "Epoch 2/7\n",
            "761/761 [==============================] - 57s 75ms/step - loss: 0.1005 - acc: 0.9708 - val_loss: 0.1180 - val_acc: 0.9614\n",
            "Epoch 3/7\n",
            "761/761 [==============================] - 58s 76ms/step - loss: 0.0539 - acc: 0.9868 - val_loss: 0.1014 - val_acc: 0.9634\n",
            "Epoch 4/7\n",
            "761/761 [==============================] - 58s 76ms/step - loss: 0.0412 - acc: 0.9897 - val_loss: 0.0945 - val_acc: 0.9776\n",
            "Epoch 5/7\n",
            "761/761 [==============================] - 58s 76ms/step - loss: 0.0337 - acc: 0.9928 - val_loss: 0.0963 - val_acc: 0.9736\n",
            "Epoch 6/7\n",
            "761/761 [==============================] - 57s 75ms/step - loss: 0.0306 - acc: 0.9934 - val_loss: 0.0820 - val_acc: 0.9756\n",
            "Epoch 7/7\n",
            "761/761 [==============================] - 57s 75ms/step - loss: 0.0256 - acc: 0.9947 - val_loss: 0.0889 - val_acc: 0.9736\n"
          ]
        }
      ]
    },
    {
      "cell_type": "markdown",
      "metadata": {
        "id": "QomiKzu-nNsD"
      },
      "source": [
        "실제 정확도 확인"
      ]
    },
    {
      "cell_type": "code",
      "metadata": {
        "colab": {
          "base_uri": "https://localhost:8080/"
        },
        "id": "8mZf_DkcnMvT",
        "outputId": "762ed7b1-6a4e-4e4a-8a0c-022060a44914"
      },
      "source": [
        "test_x_index = tokenizer.texts_to_sequences(test_x)\n",
        "test_x_pad = pad_sequences(test_x_index, maxlen = max_length)\n",
        "test_y = np.array(test_y)\n",
        "print(\"\\n 테스트셋 정확도: %.4f\" % (model.evaluate(test_x_pad, test_y)[1]))"
      ],
      "execution_count": 36,
      "outputs": [
        {
          "output_type": "stream",
          "name": "stdout",
          "text": [
            "385/385 [==============================] - 6s 15ms/step - loss: 0.0572 - acc: 0.9857\n",
            "\n",
            " 테스트셋 정확도: 0.9857\n"
          ]
        }
      ]
    },
    {
      "cell_type": "code",
      "metadata": {
        "colab": {
          "base_uri": "https://localhost:8080/",
          "height": 279
        },
        "id": "FUX5bCtNul8P",
        "outputId": "18b22de0-303a-4513-bdc6-f12b706d663d"
      },
      "source": [
        "# 훈련, 검증 loss 그래프\n",
        "epochs = range(1, 8)\n",
        "plt.plot(epochs, history.history['loss'], 'ro-')\n",
        "plt.plot(epochs, history.history['val_loss'], 'bo-')\n",
        "plt.ylabel('loss')\n",
        "plt.xlabel('epochs')\n",
        "plt.legend(['train', 'val'], loc='upper right')\n",
        "plt.grid(True)\n",
        "plt.show()"
      ],
      "execution_count": 31,
      "outputs": [
        {
          "output_type": "display_data",
          "data": {
            "image/png": "[encoded data removed]",
            "text/plain": [
              "<Figure size 432x288 with 1 Axes>"
            ]
          },
          "metadata": {
            "needs_background": "light"
          }
        }
      ]
    }
  ]
}
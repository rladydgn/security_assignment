{
  "nbformat": 4,
  "nbformat_minor": 0,
  "metadata": {
    "colab": {
      "name": "정보보안프로젝트1.ipynb",
      "provenance": [],
      "collapsed_sections": []
    },
    "kernelspec": {
      "name": "python3",
      "display_name": "Python 3"
    },
    "language_info": {
      "name": "python"
    }
  },
  "cells": [
    {
      "cell_type": "code",
      "metadata": {
        "id": "ZNZTJ7tXi2N3"
      },
      "source": [
        "import numpy as np\n",
        "import matplotlib.pyplot as plt\n",
        "from tensorflow.keras.preprocessing.text import Tokenizer\n",
        "from tensorflow.keras.preprocessing.sequence import pad_sequences\n",
        "from tensorflow.keras.layers import SimpleRNN, Embedding, Dense\n",
        "from tensorflow.keras.models import Sequential\n",
        "import tensorflow as tf"
      ],
      "execution_count": 1,
      "outputs": []
    },
    {
      "cell_type": "markdown",
      "metadata": {
        "id": "JcKBA8Yvi9W6"
      },
      "source": [
        "파싱"
      ]
    },
    {
      "cell_type": "code",
      "metadata": {
        "id": "NcMPNkKvi8Aq"
      },
      "source": [
        "def parsing(path):#파싱을 진행하는 함수\n",
        "    with open(path,'r',encoding='utf-8') as f:#파일을 읽어드리고 ['로그','로그',...] 이런식으로 로그를 구조화\n",
        "        train=[]\n",
        "        para=\"\"\n",
        "        while True:\n",
        "            l = f.readline() #한줄씩 읽어 옵니다\n",
        "\n",
        "            if not l:\n",
        "                break #파일을 전부 읽으면 읽기를 중단합니다.\n",
        "\n",
        "            if l != \"\\n\":\n",
        "                para +=l\n",
        "            else:\n",
        "                if para!='':\n",
        "                    if para[:4]=='POST': #Method가 POST인 경우 예외적으로 바디까지 가져옵니다.\n",
        "                        para+=f.readline()\n",
        "                    train.append(para)\n",
        "                    para=\"\"\n",
        "    return train"
      ],
      "execution_count": 2,
      "outputs": []
    },
    {
      "cell_type": "code",
      "metadata": {
        "id": "HkpX1XjPjDHE"
      },
      "source": [
        "def dataset(path,mod='train'): #데이터셋을 생성합니다. 파싱한 데이터와 라벨을 생성합니다 \n",
        "    x = parsing(f'{path}norm_{mod}.txt') # mod에 따라 train을 가져올지 test 데이터를 가져올지 결정됩니다.\n",
        "    y = [0]*len(x) # 정상 라벨 0 을 정상 데이터 개수 만큼 생성\n",
        "    x += parsing(f'{path}anomal_{mod}.txt')\n",
        "    y += [1]*(len(x)-len(y)) # 비정상 라벨 1을 비정상 데이터 개수 만큼 생성\n",
        "    return x, y"
      ],
      "execution_count": 3,
      "outputs": []
    },
    {
      "cell_type": "markdown",
      "metadata": {
        "id": "ZvbKU2wkjOJn"
      },
      "source": [
        "데이터 불러오기"
      ]
    },
    {
      "cell_type": "code",
      "metadata": {
        "colab": {
          "base_uri": "https://localhost:8080/"
        },
        "id": "dqWVqchgjKLc",
        "outputId": "662986a6-ac9c-4644-c763-71f89328e597"
      },
      "source": [
        "train_x, train_y = dataset('./','train')\n",
        "test_x, test_y =  dataset('./','test')\n",
        "print(f\"train_x : {len(train_x)}\")\n",
        "print(f\"train_y : {len(train_y)}\")"
      ],
      "execution_count": 4,
      "outputs": [
        {
          "output_type": "stream",
          "name": "stdout",
          "text": [
            "train_x : 49167\n",
            "train_y : 49167\n"
          ]
        }
      ]
    },
    {
      "cell_type": "code",
      "metadata": {
        "id": "mQyrFJSmjPlK"
      },
      "source": [
        "# 불러온 문자열들을 tokenizer를 이용해 키:값 쌍으로 바꿔준다.\n",
        "tokenizer = Tokenizer()\n",
        "tokenizer.fit_on_texts(train_x)\n",
        "# 문자열을 값(index)로 바꿔준다.\n",
        "train_x_index = tokenizer.texts_to_sequences(train_x)"
      ],
      "execution_count": 5,
      "outputs": []
    },
    {
      "cell_type": "code",
      "metadata": {
        "colab": {
          "base_uri": "https://localhost:8080/"
        },
        "id": "J-qThYU6jb1o",
        "outputId": "6ecebe5c-eabd-47b4-bd5b-dda08fb5755b"
      },
      "source": [
        "# 단어 -> 인덱스 키, 값 쌍\n",
        "word_to_index = tokenizer.word_index\n",
        "cnt = 0;\n",
        "for key, value in word_to_index.items():\n",
        "  cnt += 1;\n",
        "  print(\"key : \", key, \", value : \", value)\n",
        "  if(cnt==10):\n",
        "    break"
      ],
      "execution_count": 6,
      "outputs": [
        {
          "output_type": "stream",
          "name": "stdout",
          "text": [
            "key :  5 , value :  1\n",
            "key :  0 , value :  2\n",
            "key :  q , value :  3\n",
            "key :  8 , value :  4\n",
            "key :  accept , value :  5\n",
            "key :  xml , value :  6\n",
            "key :  cache , value :  7\n",
            "key :  text , value :  8\n",
            "key :  application , value :  9\n",
            "key :  x , value :  10\n"
          ]
        }
      ]
    },
    {
      "cell_type": "code",
      "metadata": {
        "colab": {
          "base_uri": "https://localhost:8080/"
        },
        "id": "1AxKLGIvkF0V",
        "outputId": "c9c14c20-3667-4f29-e5b4-2aea9c1f5232"
      },
      "source": [
        "rare_words = 0; # 등장 빈도수가 1회인 단어의 수\n",
        "total_words = len(word_to_index); # 총 단어의 수\n",
        "for key, value in tokenizer.word_counts.items():\n",
        "  if(value<=1):\n",
        "    rare_words += 1\n",
        "print(\"전체 단어 수 : \", total_words)\n",
        "print(\"등장 빈도수가 1회 이하인 단어의 수 : \", rare_words)"
      ],
      "execution_count": 7,
      "outputs": [
        {
          "output_type": "stream",
          "name": "stdout",
          "text": [
            "전체 단어 수 :  82923\n",
            "등장 빈도수가 1회 이하인 단어의 수 :  54798\n"
          ]
        }
      ]
    },
    {
      "cell_type": "code",
      "metadata": {
        "id": "neOH8gBRk_6S"
      },
      "source": [
        "#1회 이하인 단어는 제거한다.\n",
        "tokenizer = Tokenizer(num_words = total_words - rare_words + 1)\n",
        "tokenizer.fit_on_texts(train_x)\n",
        "train_x_index = tokenizer.texts_to_sequences(train_x)\n",
        "word_to_index = tokenizer.word_index"
      ],
      "execution_count": 8,
      "outputs": []
    },
    {
      "cell_type": "code",
      "metadata": {
        "colab": {
          "base_uri": "https://localhost:8080/"
        },
        "id": "Hz_I5dD5l4ok",
        "outputId": "2ff47016-2941-4211-d91c-c1f218347f4f"
      },
      "source": [
        "# 한 http 정보의 최대 길이\n",
        "max_length = max(len(i) for i in train_x_index)\n",
        "print(max_length)"
      ],
      "execution_count": 9,
      "outputs": [
        {
          "output_type": "stream",
          "name": "stdout",
          "text": [
            "248\n"
          ]
        }
      ]
    },
    {
      "cell_type": "code",
      "metadata": {
        "colab": {
          "base_uri": "https://localhost:8080/"
        },
        "id": "bW0cvgPymD6p",
        "outputId": "deaf10f3-5055-4914-d288-27ace4dcfab5"
      },
      "source": [
        "# 훈련 데이터의 크기\n",
        "train_x_pad = pad_sequences(train_x_index, maxlen=max_length)\n",
        "print(train_x_pad.shape)"
      ],
      "execution_count": 10,
      "outputs": [
        {
          "output_type": "stream",
          "name": "stdout",
          "text": [
            "(49167, 248)\n"
          ]
        }
      ]
    },
    {
      "cell_type": "code",
      "metadata": {
        "id": "2w6W_JQ1m7Ma"
      },
      "source": [
        "# 단어 집합의 크기\n",
        "vocab_size = len(word_to_index) + 1"
      ],
      "execution_count": 11,
      "outputs": []
    },
    {
      "cell_type": "code",
      "metadata": {
        "colab": {
          "base_uri": "https://localhost:8080/"
        },
        "id": "ksEnwVEfmghx",
        "outputId": "5a0ee417-7119-4efb-943a-821c62cddd45"
      },
      "source": [
        "model = Sequential()\n",
        "model.add(Embedding(vocab_size, 32)) # 임베딩 벡터의 차원은 32 / 64로해봄 비슷..\n",
        "model.add(SimpleRNN(32)) # RNN 셀의 hidden_size는 32\n",
        "model.add(Dense(1, activation='sigmoid')) # 활성 함수\n",
        "\n",
        "model.compile(optimizer='rmsprop', loss='binary_crossentropy', metrics=['acc', tf.keras.metrics.Precision(name='precision')\\\n",
        "                                                                        , tf.keras.metrics.Recall(name='recall')])\n",
        "train_y = np.array(train_y)\n",
        "# 1%는 검증에 사용\n",
        "history = model.fit(train_x_pad, train_y, epochs=7, batch_size=64, validation_split=0.01)"
      ],
      "execution_count": 32,
      "outputs": [
        {
          "output_type": "stream",
          "name": "stdout",
          "text": [
            "Epoch 1/7\n",
            "761/761 [==============================] - 55s 70ms/step - loss: 0.2653 - acc: 0.8844 - precision: 0.8813 - recall: 0.8283 - val_loss: 0.1313 - val_acc: 0.9533 - val_precision: 1.0000 - val_recall: 0.9533\n",
            "Epoch 2/7\n",
            "761/761 [==============================] - 53s 70ms/step - loss: 0.0701 - acc: 0.9804 - precision: 0.9811 - recall: 0.9707 - val_loss: 0.1086 - val_acc: 0.9736 - val_precision: 1.0000 - val_recall: 0.9736\n",
            "Epoch 3/7\n",
            "761/761 [==============================] - 54s 71ms/step - loss: 0.0386 - acc: 0.9906 - precision: 0.9922 - recall: 0.9847 - val_loss: 0.0959 - val_acc: 0.9736 - val_precision: 1.0000 - val_recall: 0.9736\n",
            "Epoch 4/7\n",
            "761/761 [==============================] - 53s 70ms/step - loss: 0.0308 - acc: 0.9932 - precision: 0.9947 - recall: 0.9886 - val_loss: 0.0778 - val_acc: 0.9858 - val_precision: 1.0000 - val_recall: 0.9858\n",
            "Epoch 5/7\n",
            "761/761 [==============================] - 53s 70ms/step - loss: 0.0269 - acc: 0.9936 - precision: 0.9946 - recall: 0.9897 - val_loss: 0.0663 - val_acc: 0.9858 - val_precision: 1.0000 - val_recall: 0.9858\n",
            "Epoch 6/7\n",
            "761/761 [==============================] - 53s 70ms/step - loss: 0.0251 - acc: 0.9950 - precision: 0.9969 - recall: 0.9909 - val_loss: 0.0864 - val_acc: 0.9837 - val_precision: 1.0000 - val_recall: 0.9837\n",
            "Epoch 7/7\n",
            "761/761 [==============================] - 53s 70ms/step - loss: 0.0247 - acc: 0.9947 - precision: 0.9947 - recall: 0.9923 - val_loss: 0.0665 - val_acc: 0.9837 - val_precision: 1.0000 - val_recall: 0.9837\n"
          ]
        }
      ]
    },
    {
      "cell_type": "markdown",
      "metadata": {
        "id": "QomiKzu-nNsD"
      },
      "source": [
        "실제 정확도 확인"
      ]
    },
    {
      "cell_type": "code",
      "metadata": {
        "colab": {
          "base_uri": "https://localhost:8080/"
        },
        "id": "8mZf_DkcnMvT",
        "outputId": "72ea44cb-1d83-4566-cdd1-efa312da1d8d"
      },
      "source": [
        "test_x_index = tokenizer.texts_to_sequences(test_x)\n",
        "test_x_pad = pad_sequences(test_x_index, maxlen = max_length)\n",
        "test_y = np.array(test_y)\n",
        "_loss, _acc, _precision, _recall = model.evaluate(test_x_pad, test_y)\n",
        "print(\"\\n 테스트셋 accuracy: %.4f\" % _acc)\n",
        "print(\"테스트셋 precision: %.4f\" % _precision)\n",
        "print(\"테스트셋 recall: %.4f\" % _recall)\n",
        "_f1_score = 2 * (_precision*_recall) / (_precision + _recall)\n",
        "print(\"테스트셋 f1_score : \", _f1_score)"
      ],
      "execution_count": 33,
      "outputs": [
        {
          "output_type": "stream",
          "name": "stdout",
          "text": [
            "385/385 [==============================] - 6s 14ms/step - loss: 0.0412 - acc: 0.9908 - precision: 0.9954 - recall: 0.9823\n",
            "\n",
            " 테스트셋 accuracy: 0.9908\n",
            "테스트셋 precision: 0.9954\n",
            "테스트셋 recall: 0.9823\n",
            "테스트셋 f1_score :  0.9888350934716266\n"
          ]
        }
      ]
    },
    {
      "cell_type": "code",
      "metadata": {
        "colab": {
          "base_uri": "https://localhost:8080/",
          "height": 279
        },
        "id": "FUX5bCtNul8P",
        "outputId": "ea82430f-700c-49e4-fc8d-c042857f7f0e"
      },
      "source": [
        "# 훈련, 검증 loss 그래프\n",
        "epochs = range(1, 8)\n",
        "plt.plot(epochs, history.history['loss'], 'ro-')\n",
        "plt.plot(epochs, history.history['val_loss'], 'bo-')\n",
        "plt.ylabel('loss')\n",
        "plt.xlabel('epochs')\n",
        "plt.legend(['train', 'val'], loc='upper right')\n",
        "plt.grid(True)\n",
        "plt.show()"
      ],
      "execution_count": 34,
      "outputs": [
        {
          "output_type": "display_data",
          "data": {
            "image/png": "[encoded data removed]",
            "text/plain": [
              "<Figure size 432x288 with 1 Axes>"
            ]
          },
          "metadata": {
            "needs_background": "light"
          }
        }
      ]
    },
    {
      "cell_type": "code",
      "metadata": {
        "colab": {
          "base_uri": "https://localhost:8080/"
        },
        "id": "c7IoPR-7vECf",
        "outputId": "59579823-1ef4-4052-9fa5-c6d3454bbed3"
      },
      "source": [
        "model.summary()"
      ],
      "execution_count": 35,
      "outputs": [
        {
          "output_type": "stream",
          "name": "stdout",
          "text": [
            "Model: \"sequential_6\"\n",
            "_________________________________________________________________\n",
            "Layer (type)                 Output Shape              Param #   \n",
            "=================================================================\n",
            "embedding_6 (Embedding)      (None, None, 32)          2653568   \n",
            "_________________________________________________________________\n",
            "simple_rnn_6 (SimpleRNN)     (None, 32)                2080      \n",
            "_________________________________________________________________\n",
            "dense_6 (Dense)              (None, 1)                 33        \n",
            "=================================================================\n",
            "Total params: 2,655,681\n",
            "Trainable params: 2,655,681\n",
            "Non-trainable params: 0\n",
            "_________________________________________________________________\n"
          ]
        }
      ]
    }
  ]
}